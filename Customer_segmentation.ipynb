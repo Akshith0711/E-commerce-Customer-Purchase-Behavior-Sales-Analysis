{
 "cells": [
  {
   "cell_type": "code",
   "execution_count": 9,
   "id": "248dccd6-b602-43c5-90e4-7bc68bb391fa",
   "metadata": {},
   "outputs": [
    {
     "name": "stdout",
     "output_type": "stream",
     "text": [
      "Index(['Invoice', 'StockCode', 'Description', 'Quantity', 'InvoiceDate',\n",
      "       'Price', 'Customer ID', 'Country', 'TotalPrice'],\n",
      "      dtype='object')\n",
      "Reference Date for Recency: 2010-12-10 20:01:00\n",
      "   Customer ID  Recency  Frequency  Monetary\n",
      "0      12346.0      165         11    372.86\n",
      "1      12347.0        3          2   1323.32\n",
      "2      12348.0       74          1    222.16\n",
      "3      12349.0       43          3   2671.14\n",
      "4      12351.0       11          1    300.93\n",
      "\n",
      "Top 10 Customers by RFM Score:\n",
      "      Customer ID  Recency  Frequency  Monetary R_score F_score M_score RFM_Segment  RFM_Score\n",
      "1687      14709.0       15         12   3965.29       4       4       4         444         12\n",
      "118       12523.0       10         12   2582.38       4       4       4         444         12\n",
      "2892      16353.0        5         16   3323.75       4       4       4         444         12\n",
      "2583      15950.0       11          6   5415.20       4       4       4         444         12\n",
      "2585      15953.0        5         11   2010.17       4       4       4         444         12\n",
      "2587      15955.0        8          9   4242.10       4       4       4         444         12\n",
      "4224      18168.0        8         11   2600.33       4       4       4         444         12\n",
      "4225      18170.0       10          6   1897.69       4       4       4         444         12\n",
      "3751      17519.0        4         10   3265.45       4       4       4         444         12\n",
      "3755      17526.0        1          9   2970.14       4       4       4         444         12\n"
     ]
    }
   ],
   "source": [
    "import pandas as pd\n",
    "import datetime as dt\n",
    "df_cleaned = pd.read_csv('cleaned_online_retail.csv')\n",
    "df_cleaned['InvoiceDate'] = pd.to_datetime(df_cleaned['InvoiceDate'])\n",
    "print(df_cleaned.columns)\n",
    "pd.set_option('display.max_columns', None)\n",
    "pd.set_option('display.expand_frame_repr', False)\n",
    "# reference date for \"Recency\" calculation\n",
    "reference_date = df_cleaned['InvoiceDate'].max() + pd.Timedelta(days=1)\n",
    "print(\"Reference Date for Recency:\", reference_date)\n",
    "\n",
    "# 2. caluclation of  RFM metrics\n",
    "rfm = df_cleaned.groupby('Customer ID').agg({\n",
    "    'InvoiceDate': lambda x: (reference_date - x.max()).days,  # Recency\n",
    "    'Invoice': 'nunique',                                      # Frequency\n",
    "    'TotalPrice': 'sum'                                        # Monetary\n",
    "})\n",
    "\n",
    "# Rename columns\n",
    "rfm.columns = ['Recency', 'Frequency', 'Monetary']\n",
    "rfm = rfm.reset_index()\n",
    "print(rfm.head())\n",
    "\n",
    "# 3. RFM Segmentation - Score each metric from 1 to 4 using quantiles function\n",
    "rfm['R_score'] = pd.qcut(rfm['Recency'], 4, labels=[4, 3, 2, 1])\n",
    "rfm['F_score'] = pd.qcut(rfm['Frequency'].rank(method=\"first\"), 4, labels=[1, 2, 3, 4])\n",
    "rfm['M_score'] = pd.qcut(rfm['Monetary'], 4, labels=[1, 2, 3, 4])\n",
    "\n",
    "# 4. Combine scores into RFM Segment\n",
    "rfm['RFM_Segment'] = rfm['R_score'].astype(str) + rfm['F_score'].astype(str) + rfm['M_score'].astype(str)\n",
    "\n",
    "# 5. Calculate RFM Score\n",
    "rfm['RFM_Score'] = rfm[['R_score', 'F_score', 'M_score']].astype(int).sum(axis=1)\n",
    "\n",
    "# Display top RFM customers\n",
    "print(\"\\nTop 10 Customers by RFM Score:\")\n",
    "print(rfm.sort_values(by='RFM_Score', ascending=False).head(10))\n"
   ]
  },
  {
   "cell_type": "code",
   "execution_count": null,
   "id": "671c47b8-91d8-4669-8271-470ba47e8e71",
   "metadata": {},
   "outputs": [],
   "source": []
  },
  {
   "cell_type": "code",
   "execution_count": null,
   "id": "1cf5231f-42b1-4465-9bf1-b4eafc02cb00",
   "metadata": {},
   "outputs": [],
   "source": []
  }
 ],
 "metadata": {
  "kernelspec": {
   "display_name": "Python 3 (ipykernel)",
   "language": "python",
   "name": "python3"
  },
  "language_info": {
   "codemirror_mode": {
    "name": "ipython",
    "version": 3
   },
   "file_extension": ".py",
   "mimetype": "text/x-python",
   "name": "python",
   "nbconvert_exporter": "python",
   "pygments_lexer": "ipython3",
   "version": "3.12.8"
  }
 },
 "nbformat": 4,
 "nbformat_minor": 5
}
