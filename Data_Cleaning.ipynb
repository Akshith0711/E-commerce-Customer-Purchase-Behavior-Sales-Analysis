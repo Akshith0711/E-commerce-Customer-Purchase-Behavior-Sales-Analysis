{
 "cells": [
  {
   "cell_type": "code",
   "execution_count": 1,
   "id": "a899ff6a-4b87-4d47-b198-a13b459bc47d",
   "metadata": {},
   "outputs": [
    {
     "name": "stdout",
     "output_type": "stream",
     "text": [
      "   Invoice StockCode                          Description  Quantity     InvoiceDate  Price  Customer ID         Country  TotalPrice\n",
      "0   489434     85048  15CM CHRISTMAS GLASS BALL 20 LIGHTS        12  12/1/2009 7:45   6.95      13085.0  United Kingdom        83.4\n",
      "1   489434    79323P                   PINK CHERRY LIGHTS        12  12/1/2009 7:45   6.75      13085.0  United Kingdom        81.0\n",
      "2   489434    79323W                  WHITE CHERRY LIGHTS        12  12/1/2009 7:45   6.75      13085.0  United Kingdom        81.0\n",
      "3   489434     22041         RECORD FRAME 7\" SINGLE SIZE         48  12/1/2009 7:45   2.10      13085.0  United Kingdom       100.8\n"
     ]
    }
   ],
   "source": [
    "import pandas as pd\n",
    "\n",
    "# Step 1: Load the original dataset (replace with your correct path if needed)\n",
    "df = pd.read_csv('Year 2009-2010.csv', encoding='ISO-8859-1')\n",
    "\n",
    "# Step 2: Clean column names\n",
    "df.columns = df.columns.str.strip()\n",
    "\n",
    "# Step 3: Remove cancelled orders\n",
    "df = df[~df['Invoice'].astype(str).str.startswith('C')]\n",
    "\n",
    "# Step 4: Drop rows with missing Customer_ID\n",
    "df = df.dropna(subset=['Customer ID'])\n",
    "\n",
    "# Step 5: Filter only positive Quantity and Price\n",
    "df = df[(df['Quantity'] > 0) & (df['Price'] > 0)]\n",
    "\n",
    "# Step 6: Create TotalPrice column\n",
    "df['TotalPrice'] = df['Quantity'] * df['Price']\n",
    "\n",
    "# Step 7: Save cleaned data\n",
    "df.to_csv('cleaned_online_retail.csv', index=False)\n",
    "\n",
    "# Step 8: Load cleaned file to verify\n",
    "df_cleaned = pd.read_csv('cleaned_online_retail.csv')\n",
    "pd.set_option('display.expand_frame_repr', False)\n",
    "\n",
    "print(df_cleaned.head(4))\n",
    "\n",
    "\n",
    "\n",
    "\n",
    "\n",
    "\n"
   ]
  },
  {
   "cell_type": "code",
   "execution_count": null,
   "id": "29c507f8-f465-4bfd-8307-cc2a362c269f",
   "metadata": {},
   "outputs": [],
   "source": []
  }
 ],
 "metadata": {
  "kernelspec": {
   "display_name": "Python 3 (ipykernel)",
   "language": "python",
   "name": "python3"
  },
  "language_info": {
   "codemirror_mode": {
    "name": "ipython",
    "version": 3
   },
   "file_extension": ".py",
   "mimetype": "text/x-python",
   "name": "python",
   "nbconvert_exporter": "python",
   "pygments_lexer": "ipython3",
   "version": "3.12.8"
  }
 },
 "nbformat": 4,
 "nbformat_minor": 5
}
