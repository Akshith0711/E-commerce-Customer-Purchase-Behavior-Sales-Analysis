{
 "cells": [
  {
   "cell_type": "code",
   "execution_count": 4,
   "id": "9c54f4d6-9b56-4e63-bdc7-43612183739a",
   "metadata": {
    "scrolled": true
   },
   "outputs": [
    {
     "name": "stdout",
     "output_type": "stream",
     "text": [
      "Columns available: ['Invoice', 'StockCode', 'Description', 'Quantity', 'InvoiceDate', 'Price', 'Customer ID', 'Country', 'TotalPrice']\n"
     ]
    },
    {
     "name": "stderr",
     "output_type": "stream",
     "text": [
      "C:\\Users\\91994\\AppData\\Local\\Temp\\ipykernel_12180\\2046496565.py:14: FutureWarning: The provided callable <built-in function min> is currently using SeriesGroupBy.min. In a future version of pandas, the provided callable will be used directly. To keep current behavior pass the string \"min\" instead.\n",
      "  customer_metrics = df.groupby(\"Customer ID\").agg({\n",
      "C:\\Users\\91994\\AppData\\Local\\Temp\\ipykernel_12180\\2046496565.py:14: FutureWarning: The provided callable <built-in function max> is currently using SeriesGroupBy.max. In a future version of pandas, the provided callable will be used directly. To keep current behavior pass the string \"max\" instead.\n",
      "  customer_metrics = df.groupby(\"Customer ID\").agg({\n"
     ]
    },
    {
     "name": "stdout",
     "output_type": "stream",
     "text": [
      "Top 10 Customers by CLV:\n",
      "      Customer ID        CLV  TotalRevenue  AvgOrderValue\n",
      "2444      15760.0  417490.20     13916.340    6958.170000\n",
      "9         12357.0  362399.70     12079.990    6039.995000\n",
      "933       13687.0  356425.20     11880.840   11880.840000\n",
      "374       12918.0  328605.00     10953.500   10953.500000\n",
      "4144      18052.0  326315.40     10877.180   10877.180000\n",
      "1179      14028.0  311895.00     10396.500    3465.500000\n",
      "2050      15202.0  180044.70      6001.490    2000.496667\n",
      "2712      16118.0  131287.50      4376.250    4376.250000\n",
      "242       12737.0  111315.00      3710.500    1855.250000\n",
      "1491      14459.0  106134.63      3537.821    3537.821000\n"
     ]
    }
   ],
   "source": [
    "#Customer Lifetime Value (CLV) Analysis\n",
    "import pandas as pd\n",
    "df = pd.read_csv(\"cleaned_online_retail.csv\", parse_dates=[\"InvoiceDate\"])\n",
    "print( df.columns.tolist())\n",
    "df[\"TotalPrice\"] = df[\"Quantity\"] * df[\"Price\"]\n",
    "\n",
    "# Group by Customer ID and calculate basic CLV metrics\n",
    "customer_metrics = df.groupby(\"Customer ID\").agg({\n",
    "    \"Invoice\": \"nunique\",       # Total number of orders\n",
    "    \"InvoiceDate\": [min, max],  # First and last purchase\n",
    "    \"TotalPrice\": \"sum\"         # Total money spent\n",
    "})\n",
    "\n",
    "# Rename columns\n",
    "customer_metrics.columns = [\"TotalOrders\", \"FirstPurchaseDate\", \"LastPurchaseDate\", \"TotalRevenue\"]\n",
    "customer_metrics = customer_metrics.reset_index()\n",
    "\n",
    "# Calculate average order value\n",
    "customer_metrics[\"AvgOrderValue\"] = customer_metrics[\"TotalRevenue\"] / customer_metrics[\"TotalOrders\"]\n",
    "\n",
    "# Calculate number of days as customer\n",
    "customer_metrics[\"CustomerAgeDays\"] = (customer_metrics[\"LastPurchaseDate\"] - customer_metrics[\"FirstPurchaseDate\"]).dt.days\n",
    "customer_metrics[\"CustomerAgeDays\"] = customer_metrics[\"CustomerAgeDays\"].replace(0, 1)  # avoid division by 0\n",
    "\n",
    "# Orders per day\n",
    "customer_metrics[\"OrdersPerDay\"] = customer_metrics[\"TotalOrders\"] / customer_metrics[\"CustomerAgeDays\"]\n",
    "\n",
    "# Simple CLV = AOV * Orders Per Day * 30 (to get monthly value)\n",
    "customer_metrics[\"CLV\"] = customer_metrics[\"AvgOrderValue\"] * customer_metrics[\"OrdersPerDay\"] * 30\n",
    "\n",
    "# top 10 high-value customers\n",
    "top_customers = customer_metrics.sort_values(by=\"CLV\", ascending=False).head(10)\n",
    "\n",
    "print(\"Top 10 Customers by CLV:\")\n",
    "print(top_customers[[\"Customer ID\", \"CLV\", \"TotalRevenue\", \"AvgOrderValue\"]])\n",
    "\n",
    "\n",
    "\n"
   ]
  },
  {
   "cell_type": "code",
   "execution_count": null,
   "id": "b88fb4e7-f692-434e-9c50-ecc9b135331a",
   "metadata": {},
   "outputs": [],
   "source": []
  }
 ],
 "metadata": {
  "kernelspec": {
   "display_name": "Python 3 (ipykernel)",
   "language": "python",
   "name": "python3"
  },
  "language_info": {
   "codemirror_mode": {
    "name": "ipython",
    "version": 3
   },
   "file_extension": ".py",
   "mimetype": "text/x-python",
   "name": "python",
   "nbconvert_exporter": "python",
   "pygments_lexer": "ipython3",
   "version": "3.12.8"
  }
 },
 "nbformat": 4,
 "nbformat_minor": 5
}
